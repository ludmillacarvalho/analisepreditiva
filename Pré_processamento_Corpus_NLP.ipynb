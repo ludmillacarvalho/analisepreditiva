{
  "nbformat": 4,
  "nbformat_minor": 0,
  "metadata": {
    "colab": {
      "provenance": []
    },
    "kernelspec": {
      "name": "python3",
      "display_name": "Python 3"
    },
    "language_info": {
      "name": "python"
    }
  },
  "cells": [
    {
      "cell_type": "code",
      "source": [
        "import re\n",
        "import string\n",
        "\n",
        "import numpy as np\n",
        "import pandas as pd\n",
        "\n",
        "from unidecode import unidecode\n",
        "\n",
        "import nltk\n",
        "from nltk.corpus import stopwords\n",
        "from nltk.stem import PorterStemmer\n",
        "\n",
        "from sklearn.feature_extraction.text import TfidfVectorizer"
      ],
      "metadata": {
        "id": "iwvMwUDuAIUQ"
      },
      "execution_count": 16,
      "outputs": []
    },
    {
      "cell_type": "code",
      "source": [
        "text = \"\"\"\n",
        "Fake news significa \"notícias falsas\", em inglês. São informações enganosas, inventadas ou que distorcem a realidade, construídas em formato de notícia (imitando o texto jornalístico) e feitas para que o seu leitor acredite que a informação é verdadeira.\n",
        "\n",
        "As notícias falsas e o fenômeno da desinformação cresceram muito com o estabelecimento da internet e a criação das redes sociais, as plataformas onde as fake news são mais compartilhadas.\n",
        "\n",
        "Normalmente, o objetivo de uma fake news é criar uma polêmica em torno de uma situação ou mesmo de uma pessoa. Elas servem para criar um clima de insegurança e medo, incentivar discursos de ódio ou ainda para sujar a imagem de alguém.\n",
        "\n",
        "Por abordar temas dramáticos e apelativos, costumam atrair muita atenção das pessoas, especialmente das que estão desatentas, não têm o costume de confirmar dados ou ainda daquelas que tem opinião concordante com a abordagem da notícia falsa.\n",
        "\n",
        "No âmbito político, por exemplo, as notícias falsas são fabricadas para manchar a reputação de determinado candidato, influenciando para uma derrota em potenciais eleitores.\n",
        "\n",
        "Fake news são extremamente perigosas. Além de prejudicar individualmente as pessoas, coletivamente, elas conseguem distorcer a percepção da realidade.\n",
        "\"\"\"\n"
      ],
      "metadata": {
        "id": "7RUcBHXtALzz"
      },
      "execution_count": 17,
      "outputs": []
    },
    {
      "cell_type": "code",
      "source": [
        "# Lowercase\n",
        "text = text.lower()\n"
      ],
      "metadata": {
        "id": "fLCGsbtbAQjC"
      },
      "execution_count": 18,
      "outputs": []
    },
    {
      "cell_type": "code",
      "source": [
        "print(text)"
      ],
      "metadata": {
        "colab": {
          "base_uri": "https://localhost:8080/"
        },
        "id": "SLAHVBYMAV89",
        "outputId": "1268b1c2-60a9-4ee2-81ec-95750391b23f"
      },
      "execution_count": 19,
      "outputs": [
        {
          "output_type": "stream",
          "name": "stdout",
          "text": [
            "\n",
            "fake news significa \"notícias falsas\", em inglês. são informações enganosas, inventadas ou que distorcem a realidade, construídas em formato de notícia (imitando o texto jornalístico) e feitas para que o seu leitor acredite que a informação é verdadeira.\n",
            "\n",
            "as notícias falsas e o fenômeno da desinformação cresceram muito com o estabelecimento da internet e a criação das redes sociais, as plataformas onde as fake news são mais compartilhadas.\n",
            "\n",
            "normalmente, o objetivo de uma fake news é criar uma polêmica em torno de uma situação ou mesmo de uma pessoa. elas servem para criar um clima de insegurança e medo, incentivar discursos de ódio ou ainda para sujar a imagem de alguém.\n",
            "\n",
            "por abordar temas dramáticos e apelativos, costumam atrair muita atenção das pessoas, especialmente das que estão desatentas, não têm o costume de confirmar dados ou ainda daquelas que tem opinião concordante com a abordagem da notícia falsa.\n",
            "\n",
            "no âmbito político, por exemplo, as notícias falsas são fabricadas para manchar a reputação de determinado candidato, influenciando para uma derrota em potenciais eleitores.\n",
            "\n",
            "fake news são extremamente perigosas. além de prejudicar individualmente as pessoas, coletivamente, elas conseguem distorcer a percepção da realidade.\n",
            "\n"
          ]
        }
      ]
    },
    {
      "cell_type": "code",
      "source": [
        "# Remoção de pontuação e símbolos\n",
        "punctuation = string.punctuation\n",
        "trantab = str.maketrans(punctuation, len(punctuation)*' ')\n",
        "text = text.translate(trantab)"
      ],
      "metadata": {
        "id": "OrW09u_8Aaom"
      },
      "execution_count": 20,
      "outputs": []
    },
    {
      "cell_type": "code",
      "source": [
        "print(text)"
      ],
      "metadata": {
        "colab": {
          "base_uri": "https://localhost:8080/"
        },
        "id": "eLv6nBVbAfgj",
        "outputId": "562ea5f7-aa30-4525-b820-9f932ab0872b"
      },
      "execution_count": 21,
      "outputs": [
        {
          "output_type": "stream",
          "name": "stdout",
          "text": [
            "\n",
            "fake news significa  notícias falsas   em inglês  são informações enganosas  inventadas ou que distorcem a realidade  construídas em formato de notícia  imitando o texto jornalístico  e feitas para que o seu leitor acredite que a informação é verdadeira \n",
            "\n",
            "as notícias falsas e o fenômeno da desinformação cresceram muito com o estabelecimento da internet e a criação das redes sociais  as plataformas onde as fake news são mais compartilhadas \n",
            "\n",
            "normalmente  o objetivo de uma fake news é criar uma polêmica em torno de uma situação ou mesmo de uma pessoa  elas servem para criar um clima de insegurança e medo  incentivar discursos de ódio ou ainda para sujar a imagem de alguém \n",
            "\n",
            "por abordar temas dramáticos e apelativos  costumam atrair muita atenção das pessoas  especialmente das que estão desatentas  não têm o costume de confirmar dados ou ainda daquelas que tem opinião concordante com a abordagem da notícia falsa \n",
            "\n",
            "no âmbito político  por exemplo  as notícias falsas são fabricadas para manchar a reputação de determinado candidato  influenciando para uma derrota em potenciais eleitores \n",
            "\n",
            "fake news são extremamente perigosas  além de prejudicar individualmente as pessoas  coletivamente  elas conseguem distorcer a percepção da realidade \n",
            "\n"
          ]
        }
      ]
    },
    {
      "cell_type": "code",
      "source": [
        "# Remover caracteres especiais (acentos e afins)\n",
        "text = unidecode(text)"
      ],
      "metadata": {
        "id": "onlegNdbAiAn"
      },
      "execution_count": 22,
      "outputs": []
    },
    {
      "cell_type": "code",
      "source": [
        "print(text)"
      ],
      "metadata": {
        "colab": {
          "base_uri": "https://localhost:8080/"
        },
        "id": "trqAIO7mAkn-",
        "outputId": "e250041d-ad98-4014-a9b0-949d2cf3d55c"
      },
      "execution_count": 24,
      "outputs": [
        {
          "output_type": "stream",
          "name": "stdout",
          "text": [
            "\n",
            "fake news significa  noticias falsas   em ingles  sao informacoes enganosas  inventadas ou que distorcem a realidade  construidas em formato de noticia  imitando o texto jornalistico  e feitas para que o seu leitor acredite que a informacao e verdadeira \n",
            "\n",
            "as noticias falsas e o fenomeno da desinformacao cresceram muito com o estabelecimento da internet e a criacao das redes sociais  as plataformas onde as fake news sao mais compartilhadas \n",
            "\n",
            "normalmente  o objetivo de uma fake news e criar uma polemica em torno de uma situacao ou mesmo de uma pessoa  elas servem para criar um clima de inseguranca e medo  incentivar discursos de odio ou ainda para sujar a imagem de alguem \n",
            "\n",
            "por abordar temas dramaticos e apelativos  costumam atrair muita atencao das pessoas  especialmente das que estao desatentas  nao tem o costume de confirmar dados ou ainda daquelas que tem opiniao concordante com a abordagem da noticia falsa \n",
            "\n",
            "no ambito politico  por exemplo  as noticias falsas sao fabricadas para manchar a reputacao de determinado candidato  influenciando para uma derrota em potenciais eleitores \n",
            "\n",
            "fake news sao extremamente perigosas  alem de prejudicar individualmente as pessoas  coletivamente  elas conseguem distorcer a percepcao da realidade \n",
            "\n"
          ]
        }
      ]
    },
    {
      "cell_type": "code",
      "source": [
        "# Remover dígitos\n",
        "text = re.sub(r'\\d+', '', text)"
      ],
      "metadata": {
        "id": "LZxATjBhAqbY"
      },
      "execution_count": 25,
      "outputs": []
    },
    {
      "cell_type": "code",
      "source": [
        "print(text)"
      ],
      "metadata": {
        "colab": {
          "base_uri": "https://localhost:8080/"
        },
        "id": "m8Xt5VYbA4VH",
        "outputId": "67bf8c2a-5186-4c8a-e4a1-10940e5c0297"
      },
      "execution_count": 26,
      "outputs": [
        {
          "output_type": "stream",
          "name": "stdout",
          "text": [
            "\n",
            "fake news significa  noticias falsas   em ingles  sao informacoes enganosas  inventadas ou que distorcem a realidade  construidas em formato de noticia  imitando o texto jornalistico  e feitas para que o seu leitor acredite que a informacao e verdadeira \n",
            "\n",
            "as noticias falsas e o fenomeno da desinformacao cresceram muito com o estabelecimento da internet e a criacao das redes sociais  as plataformas onde as fake news sao mais compartilhadas \n",
            "\n",
            "normalmente  o objetivo de uma fake news e criar uma polemica em torno de uma situacao ou mesmo de uma pessoa  elas servem para criar um clima de inseguranca e medo  incentivar discursos de odio ou ainda para sujar a imagem de alguem \n",
            "\n",
            "por abordar temas dramaticos e apelativos  costumam atrair muita atencao das pessoas  especialmente das que estao desatentas  nao tem o costume de confirmar dados ou ainda daquelas que tem opiniao concordante com a abordagem da noticia falsa \n",
            "\n",
            "no ambito politico  por exemplo  as noticias falsas sao fabricadas para manchar a reputacao de determinado candidato  influenciando para uma derrota em potenciais eleitores \n",
            "\n",
            "fake news sao extremamente perigosas  alem de prejudicar individualmente as pessoas  coletivamente  elas conseguem distorcer a percepcao da realidade \n",
            "\n"
          ]
        }
      ]
    },
    {
      "cell_type": "code",
      "source": [
        "# Remover stopwords\n",
        "try:\n",
        "    stopwords_list = stopwords.words('portuguese')\n",
        "except:\n",
        "    nltk.download('stopwords')\n",
        "    stopwords_list = stopwords.words('portuguese')\n",
        "\n",
        "def remove_stopwords(input_text, stopwords_list):\n",
        "    words = input_text.split()\n",
        "    clean_words = [word for word in words if (word not in stopwords_list) and len(word) > 1]\n",
        "    return \" \".join(clean_words)\n",
        "\n",
        "text = remove_stopwords(text, stopwords_list)"
      ],
      "metadata": {
        "id": "j6GJhpbvBDDu"
      },
      "execution_count": 29,
      "outputs": []
    },
    {
      "cell_type": "code",
      "source": [
        "print(text)"
      ],
      "metadata": {
        "colab": {
          "base_uri": "https://localhost:8080/"
        },
        "id": "RjNKBqoSBMCv",
        "outputId": "eeb99937-40cd-46a5-e3f1-3bff279eb954"
      },
      "execution_count": 30,
      "outputs": [
        {
          "output_type": "stream",
          "name": "stdout",
          "text": [
            "fake news significa noticias falsas ingles sao informacoes enganosas inventadas distorcem realidade construidas formato noticia imitando texto jornalistico feitas leitor acredite informacao verdadeira noticias falsas fenomeno desinformacao cresceram estabelecimento internet criacao redes sociais plataformas onde fake news sao compartilhadas normalmente objetivo fake news criar polemica torno situacao pessoa servem criar clima inseguranca medo incentivar discursos odio ainda sujar imagem alguem abordar temas dramaticos apelativos costumam atrair muita atencao pessoas especialmente estao desatentas nao costume confirmar dados ainda daquelas opiniao concordante abordagem noticia falsa ambito politico exemplo noticias falsas sao fabricadas manchar reputacao determinado candidato influenciando derrota potenciais eleitores fake news sao extremamente perigosas alem prejudicar individualmente pessoas coletivamente conseguem distorcer percepcao realidade\n"
          ]
        }
      ]
    },
    {
      "cell_type": "code",
      "source": [
        "# Radicalização\n",
        "def stemming(input_text):\n",
        "    porter = PorterStemmer()\n",
        "    words = input_text.split()\n",
        "    stemmed_words = [porter.stem(word) for word in words]\n",
        "    return \" \".join(stemmed_words)\n",
        "\n",
        "text = stemming(text)\n"
      ],
      "metadata": {
        "id": "0AvaJE6tBPKt"
      },
      "execution_count": 31,
      "outputs": []
    },
    {
      "cell_type": "code",
      "source": [
        "print(text)"
      ],
      "metadata": {
        "colab": {
          "base_uri": "https://localhost:8080/"
        },
        "id": "OCcZH2_EBT2r",
        "outputId": "fe45e676-1c48-4932-b4dc-4fc1afef2979"
      },
      "execution_count": 32,
      "outputs": [
        {
          "output_type": "stream",
          "name": "stdout",
          "text": [
            "fake news significa noticia falsa ingl sao informaco enganosa inventada distorcem realidad construida formato noticia imitando texto jornalistico feita leitor acredit informacao verdadeira noticia falsa fenomeno desinformacao cresceram estabelecimento internet criacao rede sociai plataforma ond fake news sao compartilhada normalment objetivo fake news criar polemica torno situacao pessoa servem criar clima inseguranca medo incentivar discurso odio ainda sujar imagem alguem abordar tema dramatico apelativo costumam atrair muita atencao pessoa especialment estao desatenta nao costum confirmar dado ainda daquela opiniao concordant abordagem noticia falsa ambito politico exemplo noticia falsa sao fabricada manchar reputacao determinado candidato influenciando derrota potenciai eleitor fake news sao extremament perigosa alem prejudicar individualment pessoa coletivament conseguem distorc percepcao realidad\n"
          ]
        }
      ]
    },
    {
      "cell_type": "code",
      "source": [
        "# O TF-IDF\n",
        "# Instanciar o vetorizador do sklearn\n",
        "tfv = TfidfVectorizer()\n",
        "# Ajustar os pesos e fazer a transformação do corpus para a representação TF-IDF\n",
        "tfidf = tfv.fit_transform([text])"
      ],
      "metadata": {
        "id": "HDj4tPgeBX91"
      },
      "execution_count": 33,
      "outputs": []
    },
    {
      "cell_type": "code",
      "source": [
        "print(text)"
      ],
      "metadata": {
        "colab": {
          "base_uri": "https://localhost:8080/"
        },
        "id": "PHgzqwSyBece",
        "outputId": "e0743461-6802-491a-fde6-aad20cde0846"
      },
      "execution_count": 34,
      "outputs": [
        {
          "output_type": "stream",
          "name": "stdout",
          "text": [
            "fake news significa noticia falsa ingl sao informaco enganosa inventada distorcem realidad construida formato noticia imitando texto jornalistico feita leitor acredit informacao verdadeira noticia falsa fenomeno desinformacao cresceram estabelecimento internet criacao rede sociai plataforma ond fake news sao compartilhada normalment objetivo fake news criar polemica torno situacao pessoa servem criar clima inseguranca medo incentivar discurso odio ainda sujar imagem alguem abordar tema dramatico apelativo costumam atrair muita atencao pessoa especialment estao desatenta nao costum confirmar dado ainda daquela opiniao concordant abordagem noticia falsa ambito politico exemplo noticia falsa sao fabricada manchar reputacao determinado candidato influenciando derrota potenciai eleitor fake news sao extremament perigosa alem prejudicar individualment pessoa coletivament conseguem distorc percepcao realidad\n"
          ]
        }
      ]
    },
    {
      "cell_type": "code",
      "source": [
        "tfidf = pd.DataFrame.sparse.from_spmatrix(tfidf, columns=tfv.get_feature_names())\n",
        "    print(tfidf)"
      ],
      "metadata": {
        "colab": {
          "base_uri": "https://localhost:8080/",
          "height": 106
        },
        "id": "b1HFCiZOCDhY",
        "outputId": "8f08a142-c647-451b-a46d-2c9a7899d716"
      },
      "execution_count": 38,
      "outputs": [
        {
          "output_type": "error",
          "ename": "IndentationError",
          "evalue": "unexpected indent (<ipython-input-38-35a008297cfd>, line 2)",
          "traceback": [
            "\u001b[0;36m  File \u001b[0;32m\"<ipython-input-38-35a008297cfd>\"\u001b[0;36m, line \u001b[0;32m2\u001b[0m\n\u001b[0;31m    print(tfidf)\u001b[0m\n\u001b[0m    ^\u001b[0m\n\u001b[0;31mIndentationError\u001b[0m\u001b[0;31m:\u001b[0m unexpected indent\n"
          ]
        }
      ]
    }
  ]
}